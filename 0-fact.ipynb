{
 "cells": [
  {
   "cell_type": "markdown",
   "metadata": {},
   "source": [
    "# Polyphony のチュートリアルへようこそ\n",
    "\n",
    "ここでは簡単な Python のコードを通して Polyphony で Verilog-HDL のソースをつくるまでを解説します。\n",
    "まずは下の簡単な fact(階乗) を計算するプログラムを実行してみましょう。\n",
    "うまく実行されれば結果として 120 が表示されるはずです。"
   ]
  },
  {
   "cell_type": "code",
   "execution_count": 1,
   "metadata": {},
   "outputs": [
    {
     "name": "stdout",
     "output_type": "stream",
     "text": [
      "120\n"
     ]
    }
   ],
   "source": [
    "from polyphony import testbench\n",
    "\n",
    "def fact(n):\n",
    "    result = 1\n",
    "    while ( n > 1 ):\n",
    "        result = result * n\n",
    "        n -= 1\n",
    "    return result\n",
    "\n",
    "@testbench\n",
    "def test():\n",
    "    result = fact(5)\n",
    "    print(result)\n",
    "    \n",
    "test()"
   ]
  },
  {
   "cell_type": "markdown",
   "metadata": {},
   "source": [
    "## Polyphony でコンパイル\n",
    "上記のプログラムを Polyphony でコンパイルしてみましょう。\n"
   ]
  },
  {
   "cell_type": "code",
   "execution_count": 2,
   "metadata": {
    "scrolled": true
   },
   "outputs": [
    {
     "name": "stdout",
     "output_type": "stream",
     "text": [
      "fact\n",
      "test\n"
     ]
    }
   ],
   "source": [
    "import polyphony_jupyter as pj\n",
    "pj.compile(In[1])\n",
    "pj.show_list()"
   ]
  },
  {
   "cell_type": "markdown",
   "metadata": {},
   "source": [
    "## トップモジュールを見る\n",
    "コンパイル結果のトップモジュールを見てみましょう。"
   ]
  },
  {
   "cell_type": "code",
   "execution_count": 3,
   "metadata": {},
   "outputs": [
    {
     "name": "stdout",
     "output_type": "stream",
     "text": [
      "############### fact.py #################\n",
      "module fact\n",
      "  (\n",
      "    input wire clk,\n",
      "    input wire rst,\n",
      "    input wire fact_ready,\n",
      "    input wire fact_accept,\n",
      "    output reg fact_valid,\n",
      "    input wire signed [31:0] fact_in_n,\n",
      "    output reg signed [31:0] fact_out_0\n",
      "  );\n",
      "\n",
      "  //localparams\n",
      "  localparam fact_b1_INIT = 0;\n",
      "  localparam fact_b1_S0 = 1;\n",
      "  localparam fact_b1_S1 = 2;\n",
      "  localparam fact_b1_S2 = 3;\n",
      "  localparam fact_whileelse5_FINISH = 4;\n",
      "  localparam fact_L1_while2_S0 = 5;\n",
      "  localparam fact_L1_whilebody3_S0 = 6;\n",
      "  localparam fact_L1_whilebody3_S1 = 7;\n",
      "  \n",
      "  //signals: \n",
      "  wire c66;\n",
      "  reg        [3:0] fact_state;\n",
      "  wire signed [31:0] n3;\n",
      "  wire signed [31:0] result3;\n",
      "  reg signed [31:0] n1;\n",
      "  reg signed [31:0] n2;\n",
      "  reg signed [31:0] result2;\n",
      "  //combinations: \n",
      "  assign c66 = (n2 > 1);\n",
      "  assign n3 = (n2 - 1);\n",
      "  assign result3 = (result2 * n2);\n",
      "  \n",
      "  always @(posedge clk) begin\n",
      "    if (rst) begin\n",
      "      fact_out_0 <= 0;\n",
      "      n1 <= 0;\n",
      "      n2 <= 0;\n",
      "      result2 <= 0;\n",
      "      fact_state <= fact_b1_INIT;\n",
      "    end else begin //if (rst)\n",
      "      case(fact_state)\n",
      "      fact_b1_INIT: begin\n",
      "        fact_valid <= 0;\n",
      "        if (fact_ready == 1) begin\n",
      "          n1 <= fact_in_n;\n",
      "          result2 <= 1;\n",
      "          fact_state <= fact_b1_S1;\n",
      "        end\n",
      "      end\n",
      "      fact_b1_S1: begin\n",
      "        n2 <= n1;\n",
      "        fact_state <= fact_L1_while2_S0;\n",
      "      end\n",
      "      fact_L1_while2_S0: begin\n",
      "        /* c66 <= (n2 > 1); */\n",
      "        if (c66) begin\n",
      "          /* result3 <= (result2 * n2); */\n",
      "          /* n3 <= (n2 - 1); */\n",
      "          n2 <= n3;\n",
      "          result2 <= result3;\n",
      "          fact_state <= fact_L1_while2_S0;\n",
      "        end else begin\n",
      "          fact_valid <= 1;\n",
      "          if (fact_accept == 1) begin\n",
      "            fact_state <= fact_b1_INIT;\n",
      "          end\n",
      "          fact_out_0 <= result2;\n",
      "        end\n",
      "      end\n",
      "      endcase\n",
      "    end\n",
      "  end\n",
      "  \n",
      "\n",
      "endmodule\n",
      "\n",
      "\n"
     ]
    }
   ],
   "source": [
    "pj.show_module()"
   ]
  },
  {
   "cell_type": "markdown",
   "metadata": {},
   "source": [
    "## テストベンチを見る\n",
    "生成されたテストベンチも見てみましょう。"
   ]
  },
  {
   "cell_type": "code",
   "execution_count": 4,
   "metadata": {},
   "outputs": [
    {
     "name": "stdout",
     "output_type": "stream",
     "text": [
      "############### test.py #################\n",
      "module test\n",
      "  (\n",
      "    \n",
      "  );\n",
      "\n",
      "  //localparams\n",
      "  localparam CLK_PERIOD = 10;\n",
      "  localparam CLK_HALF_PERIOD = 5;\n",
      "  localparam INITIAL_RESET_SPAN = 100;\n",
      "  localparam test_b1_INIT = 0;\n",
      "  localparam test_b1_S1 = 1;\n",
      "  localparam test_b1_S2 = 2;\n",
      "  localparam test_b1_S3 = 3;\n",
      "  localparam test_b1_S4 = 4;\n",
      "  localparam test_b1_S5 = 5;\n",
      "  localparam test_b1_FINISH = 6;\n",
      "  \n",
      "  //signals: \n",
      "  wire fact_0_valid;\n",
      "  reg clk;\n",
      "  reg fact_0_accept;\n",
      "  reg fact_0_ready;\n",
      "  reg rst;\n",
      "  reg        [2:0] test_state;\n",
      "  reg signed [31:0] result;\n",
      "  //signals: in_n\n",
      "  reg        [31:0] fact_0_in_n;\n",
      "  //signals: out_0\n",
      "  wire        [31:0] fact_0_out_0;\n",
      "  //sub modules\n",
      "  //fact_0 instance\n",
      "  fact fact_0(\n",
      "    .clk(clk),\n",
      "    .rst(rst),\n",
      "    .fact_ready(fact_0_ready),\n",
      "    .fact_accept(fact_0_accept),\n",
      "    .fact_valid(fact_0_valid),\n",
      "    .fact_in_n(fact_0_in_n),\n",
      "    .fact_out_0(fact_0_out_0)\n",
      "  );\n",
      "  \n",
      "  \n",
      "  initial begin\n",
      "    clk = 0;\n",
      "    #CLK_HALF_PERIOD\n",
      "    forever #CLK_HALF_PERIOD clk = ~clk;\n",
      "  end\n",
      "  initial begin\n",
      "    rst <= 1;\n",
      "    #INITIAL_RESET_SPAN\n",
      "    rst <= 0;\n",
      "  end\n",
      "  \n",
      "\n",
      "  always @(posedge clk) begin\n",
      "    if (rst) begin\n",
      "      fact_0_accept <= 0;\n",
      "      fact_0_ready <= 0;\n",
      "      test_state <= test_b1_INIT;\n",
      "    end else begin //if (rst)\n",
      "      case(test_state)\n",
      "      test_b1_INIT: begin\n",
      "        fact_0_ready <= 1;\n",
      "        fact_0_in_n <= 5;\n",
      "        test_state <= test_b1_S1;\n",
      "      end\n",
      "      test_b1_S1: begin\n",
      "        fact_0_ready <= 0;\n",
      "        test_state <= test_b1_S2;\n",
      "      end\n",
      "      test_b1_S2: begin\n",
      "        if (fact_0_valid == 1) begin\n",
      "          result <= fact_0_out_0;\n",
      "          fact_0_accept <= 1;\n",
      "          test_state <= test_b1_S4;\n",
      "        end\n",
      "      end\n",
      "      test_b1_S4: begin\n",
      "        fact_0_accept <= 0;\n",
      "        test_state <= test_b1_S5;\n",
      "      end\n",
      "      test_b1_S5: begin\n",
      "        $display(\"%1d\", result);\n",
      "        test_state <= test_b1_FINISH;\n",
      "      end\n",
      "      test_b1_FINISH: begin\n",
      "        $display(\"%5t:finish\", $time);\n",
      "        $finish();\n",
      "      end\n",
      "      endcase\n",
      "    end\n",
      "  end\n",
      "  \n",
      "\n",
      "endmodule\n",
      "\n",
      "\n"
     ]
    }
   ],
   "source": [
    "pj.show_testbench()"
   ]
  },
  {
   "cell_type": "markdown",
   "metadata": {},
   "source": [
    "## __main__ もみる\n",
    "コンパイルに必要なモジュールを include した __main__ をみてみましょう。今回は簡単な関数をコンパイルしただけなのでトップモジュールしかありません。"
   ]
  },
  {
   "cell_type": "code",
   "execution_count": 5,
   "metadata": {},
   "outputs": [
    {
     "name": "stdout",
     "output_type": "stream",
     "text": [
      "############### __main__ #################\n",
      "`include \"./fact.v\"\n",
      "\n"
     ]
    }
   ],
   "source": [
    "pj.show_main()"
   ]
  },
  {
   "cell_type": "markdown",
   "metadata": {},
   "source": [
    "## verilog のシミュレーション\n",
    "ざんねんならが jupyter 上で verilog のシミュレーションは出来ません。上記の verilog をコピー＆ペーストして iverilog などでコンパイル実行してみてください。"
   ]
  },
  {
   "cell_type": "code",
   "execution_count": null,
   "metadata": {},
   "outputs": [],
   "source": []
  }
 ],
 "metadata": {
  "kernelspec": {
   "display_name": "Python 3",
   "language": "python",
   "name": "python3"
  },
  "language_info": {
   "codemirror_mode": {
    "name": "ipython",
    "version": 3
   },
   "file_extension": ".py",
   "mimetype": "text/x-python",
   "name": "python",
   "nbconvert_exporter": "python",
   "pygments_lexer": "ipython3",
   "version": "3.6.3"
  }
 },
 "nbformat": 4,
 "nbformat_minor": 2
}
