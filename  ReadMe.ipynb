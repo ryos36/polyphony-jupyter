{
 "cells": [
  {
   "cell_type": "markdown",
   "metadata": {},
   "source": [
    "# Welcome Polyphony Tutorial !!\n",
    "jupyter で動作する Polyphony の Tutorial です。\n",
    "\n",
    "まずは [0-fact.py] を実行してみてください。\n",
    "\n",
    "コンテンツはこれから増やしていきます。"
   ]
  },
  {
   "cell_type": "markdown",
   "metadata": {},
   "source": [
    "## ToDo\n",
    "- 参照が絶対的になっている。ひとつ前のセルという考え方にしたい。\n",
    "- fact.py より分かりやすい例にしたい。\n",
    "- 生成された verilog を zip 化してダウンロード可能にしたい。"
   ]
  },
  {
   "cell_type": "code",
   "execution_count": null,
   "metadata": {},
   "outputs": [],
   "source": []
  }
 ],
 "metadata": {
  "kernelspec": {
   "display_name": "Python 3",
   "language": "python",
   "name": "python3"
  },
  "language_info": {
   "codemirror_mode": {
    "name": "ipython",
    "version": 3
   },
   "file_extension": ".py",
   "mimetype": "text/x-python",
   "name": "python",
   "nbconvert_exporter": "python",
   "pygments_lexer": "ipython3",
   "version": "3.6.7"
  }
 },
 "nbformat": 4,
 "nbformat_minor": 2
}
